{
 "cells": [
  {
   "cell_type": "code",
   "execution_count": 1,
   "id": "a8689267",
   "metadata": {
    "execution": {
     "iopub.execute_input": "2025-04-03T12:53:15.474220Z",
     "iopub.status.busy": "2025-04-03T12:53:15.473634Z",
     "iopub.status.idle": "2025-04-03T12:53:18.859131Z",
     "shell.execute_reply": "2025-04-03T12:53:18.857837Z"
    },
    "papermill": {
     "duration": 3.392473,
     "end_time": "2025-04-03T12:53:18.861442",
     "exception": false,
     "start_time": "2025-04-03T12:53:15.468969",
     "status": "completed"
    },
    "tags": []
   },
   "outputs": [],
   "source": [
    "import numpy as np\n",
    "import pandas as pd\n",
    "import matplotlib.pyplot as plt\n",
    "import xgboost as xgb\n",
    "from sklearn.model_selection import train_test_split, StratifiedKFold, cross_val_score\n",
    "from sklearn.preprocessing import StandardScaler\n",
    "from sklearn.metrics import accuracy_score, classification_report, confusion_matrix\n",
    "from sklearn.feature_selection import SelectKBest, f_classif"
   ]
  },
  {
   "cell_type": "code",
   "execution_count": 2,
   "id": "67348cc5",
   "metadata": {
    "execution": {
     "iopub.execute_input": "2025-04-03T12:53:18.868461Z",
     "iopub.status.busy": "2025-04-03T12:53:18.867771Z",
     "iopub.status.idle": "2025-04-03T12:53:18.879628Z",
     "shell.execute_reply": "2025-04-03T12:53:18.878550Z"
    },
    "papermill": {
     "duration": 0.017159,
     "end_time": "2025-04-03T12:53:18.881607",
     "exception": false,
     "start_time": "2025-04-03T12:53:18.864448",
     "status": "completed"
    },
    "tags": []
   },
   "outputs": [],
   "source": [
    "def load_and_preprocess_data():\n",
    "    # Load dataset from UCI\n",
    "    url = \"https://archive.ics.uci.edu/ml/machine-learning-databases/00381/PRSA_data_2010.1.1-2014.12.31.csv\"\n",
    "    data = pd.read_csv(url)\n",
    "    \n",
    "    # Handle missing values\n",
    "    data = data.dropna(subset=['pm2.5'])\n",
    "    \n",
    "    # Advanced feature engineering\n",
    "    data['date'] = pd.to_datetime(data[['year', 'month', 'day', 'hour']])\n",
    "    data['day_of_week'] = data['date'].dt.dayofweek\n",
    "    data['month'] = data['date'].dt.month\n",
    "    data['is_weekend'] = data['day_of_week'].isin([5, 6]).astype(int)\n",
    "    \n",
    "    # Trigonometric features for cyclical time features\n",
    "    data['hour_sin'] = np.sin(2 * np.pi * data['hour'] / 24)\n",
    "    data['hour_cos'] = np.cos(2 * np.pi * data['hour'] / 24)\n",
    "    data['month_sin'] = np.sin(2 * np.pi * data['month'] / 12)\n",
    "    data['month_cos'] = np.cos(2 * np.pi * data['month'] / 12)\n",
    "    \n",
    "    # Select features\n",
    "    features = [\n",
    "        'DEWP', 'TEMP', 'PRES', 'Iws', 'Is', 'Ir', \n",
    "        'hour_sin', 'hour_cos', 'day_of_week', \n",
    "        'month_sin', 'month_cos', 'is_weekend'\n",
    "    ]\n",
    "    \n",
    "    X = data[features]\n",
    "    \n",
    "    # Binary classification (high vs low PM2.5)\n",
    "    # Use 75th percentile as threshold for more challenging classification\n",
    "    threshold = data['pm2.5'].quantile(0.75)\n",
    "    y = (data['pm2.5'] > threshold).astype(int)\n",
    "    \n",
    "    # Train-test split with stratification\n",
    "    X_train, X_test, y_train, y_test = train_test_split(\n",
    "        X, y, test_size=0.2, random_state=42, stratify=y\n",
    "    )\n",
    "    \n",
    "    # Feature selection\n",
    "    selector = SelectKBest(f_classif, k=8)\n",
    "    X_train_selected = selector.fit_transform(X_train, y_train)\n",
    "    X_test_selected = selector.transform(X_test)\n",
    "    \n",
    "    # Scale features\n",
    "    scaler = StandardScaler()\n",
    "    X_train_scaled = scaler.fit_transform(X_train_selected)\n",
    "    X_test_scaled = scaler.transform(X_test_selected)\n",
    "    \n",
    "    return X_train_scaled, X_test_scaled, y_train, y_test"
   ]
  },
  {
   "cell_type": "code",
   "execution_count": 3,
   "id": "3ee8b5dc",
   "metadata": {
    "execution": {
     "iopub.execute_input": "2025-04-03T12:53:18.887796Z",
     "iopub.status.busy": "2025-04-03T12:53:18.887328Z",
     "iopub.status.idle": "2025-04-03T12:53:18.896548Z",
     "shell.execute_reply": "2025-04-03T12:53:18.895514Z"
    },
    "papermill": {
     "duration": 0.014379,
     "end_time": "2025-04-03T12:53:18.898405",
     "exception": false,
     "start_time": "2025-04-03T12:53:18.884026",
     "status": "completed"
    },
    "tags": []
   },
   "outputs": [],
   "source": [
    "def train_and_evaluate_xgboost():\n",
    "    # Load preprocessed data\n",
    "    X_train, X_test, y_train, y_test = load_and_preprocess_data()\n",
    "    \n",
    "    # Advanced XGBoost parameters for high accuracy\n",
    "    params = {\n",
    "        'n_estimators': 300,  # Increased from default\n",
    "        'max_depth': 7,\n",
    "        'learning_rate': 0.05,\n",
    "        'subsample': 0.8,\n",
    "        'colsample_bytree': 0.8,\n",
    "        'min_child_weight': 3,\n",
    "        'gamma': 0.1,\n",
    "        'reg_alpha': 0.1,\n",
    "        'reg_lambda': 1.0,\n",
    "        'scale_pos_weight': 1,  # Balance positive and negative weights\n",
    "        'random_state': 42\n",
    "    }\n",
    "    \n",
    "    # Cross-validation for more robust parameter tuning\n",
    "    cv = StratifiedKFold(n_splits=5, shuffle=True, random_state=42)\n",
    "    \n",
    "    # Initialize and train XGBoost\n",
    "    clf = xgb.XGBClassifier(**params)\n",
    "    \n",
    "    # Perform cross-validation\n",
    "    cv_scores = cross_val_score(clf, X_train, y_train, cv=cv, scoring='accuracy')\n",
    "    print(\"Cross-validation Accuracy: %0.2f (+/- %0.2f)\" % (cv_scores.mean(), cv_scores.std() * 2))\n",
    "    \n",
    "    # Fit on full training data\n",
    "    clf.fit(X_train, y_train, \n",
    "            eval_set=[(X_test, y_test)],\n",
    "            early_stopping_rounds=20,\n",
    "            verbose=False)\n",
    "    \n",
    "    # Predictions\n",
    "    y_pred = clf.predict(X_test)\n",
    "    \n",
    "    # Detailed evaluation\n",
    "    accuracy = accuracy_score(y_test, y_pred)\n",
    "    print(\"\\nXGBoost Results:\")\n",
    "    print(f\"Accuracy: {accuracy:.4f}\")\n",
    "    print(\"\\nClassification Report:\")\n",
    "    print(classification_report(y_test, y_pred))\n",
    "    \n",
    "    # Confusion Matrix\n",
    "    cm = confusion_matrix(y_test, y_pred)\n",
    "    plt.figure(figsize=(8,6))\n",
    "    plt.imshow(cm, interpolation='nearest', cmap=plt.cm.Blues)\n",
    "    plt.title('Confusion Matrix')\n",
    "    plt.colorbar()\n",
    "    plt.xlabel('Predicted Label')\n",
    "    plt.ylabel('True Label')\n",
    "    plt.tight_layout()\n",
    "    plt.show()\n",
    "    \n",
    "    return clf\n",
    "\n",
    "\n"
   ]
  },
  {
   "cell_type": "code",
   "execution_count": 4,
   "id": "8a84504e",
   "metadata": {
    "execution": {
     "iopub.execute_input": "2025-04-03T12:53:18.904306Z",
     "iopub.status.busy": "2025-04-03T12:53:18.903859Z",
     "iopub.status.idle": "2025-04-03T12:53:24.198580Z",
     "shell.execute_reply": "2025-04-03T12:53:24.197342Z"
    },
    "papermill": {
     "duration": 5.300119,
     "end_time": "2025-04-03T12:53:24.200953",
     "exception": false,
     "start_time": "2025-04-03T12:53:18.900834",
     "status": "completed"
    },
    "tags": []
   },
   "outputs": [
    {
     "name": "stdout",
     "output_type": "stream",
     "text": [
      "Cross-validation Accuracy: 0.84 (+/- 0.00)\n"
     ]
    },
    {
     "name": "stderr",
     "output_type": "stream",
     "text": [
      "/usr/local/lib/python3.10/dist-packages/xgboost/sklearn.py:889: UserWarning: `early_stopping_rounds` in `fit` method is deprecated for better compatibility with scikit-learn, use `early_stopping_rounds` in constructor or`set_params` instead.\n",
      "  warnings.warn(\n"
     ]
    },
    {
     "name": "stdout",
     "output_type": "stream",
     "text": [
      "\n",
      "XGBoost Results:\n",
      "Accuracy: 0.8391\n",
      "\n",
      "Classification Report:\n",
      "              precision    recall  f1-score   support\n",
      "\n",
      "           0       0.86      0.94      0.90      6272\n",
      "           1       0.74      0.55      0.63      2080\n",
      "\n",
      "    accuracy                           0.84      8352\n",
      "   macro avg       0.80      0.74      0.76      8352\n",
      "weighted avg       0.83      0.84      0.83      8352\n",
      "\n"
     ]
    },
    {
     "data": {
      "image/png": "[encoded data removed]",
      "text/plain": [
       "<Figure size 800x600 with 2 Axes>"
      ]
     },
     "metadata": {},
     "output_type": "display_data"
    }
   ],
   "source": [
    "if __name__ == '__main__':\n",
    "    model = train_and_evaluate_xgboost()"
   ]
  }
 ],
 "metadata": {
  "kaggle": {
   "accelerator": "none",
   "dataSources": [],
   "dockerImageVersionId": 30918,
   "isGpuEnabled": false,
   "isInternetEnabled": true,
   "language": "python",
   "sourceType": "notebook"
  },
  "kernelspec": {
   "display_name": "Python 3",
   "language": "python",
   "name": "python3"
  },
  "language_info": {
   "codemirror_mode": {
    "name": "ipython",
    "version": 3
   },
   "file_extension": ".py",
   "mimetype": "text/x-python",
   "name": "python",
   "nbconvert_exporter": "python",
   "pygments_lexer": "ipython3",
   "version": "3.10.12"
  },
  "papermill": {
   "default_parameters": {},
   "duration": 12.625013,
   "end_time": "2025-04-03T12:53:25.229055",
   "environment_variables": {},
   "exception": null,
   "input_path": "__notebook__.ipynb",
   "output_path": "__notebook__.ipynb",
   "parameters": {},
   "start_time": "2025-04-03T12:53:12.604042",
   "version": "2.6.0"
  }
 },
 "nbformat": 4,
 "nbformat_minor": 5
}
